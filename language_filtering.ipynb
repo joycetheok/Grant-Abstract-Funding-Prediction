{
 "cells": [
  {
   "cell_type": "markdown",
   "metadata": {},
   "source": [
    "# Language Filtering Script"
   ]
  },
  {
   "cell_type": "code",
   "execution_count": null,
   "metadata": {},
   "outputs": [],
   "source": [
    "# installations\n",
    "\n",
    "import pandas as pd"
   ]
  },
  {
   "cell_type": "code",
   "execution_count": 12,
   "metadata": {},
   "outputs": [],
   "source": [
    "# read in the files\n",
    "grants = pd.read_csv('data/grants.csv')"
   ]
  },
  {
   "cell_type": "code",
   "execution_count": 13,
   "metadata": {},
   "outputs": [
    {
     "name": "stdout",
     "output_type": "stream",
     "text": [
      "Non-string rows in 'Abstract/Summary':\n",
      "                                          Project title  \\\n",
      "199   Causal risk factors for sexual offending: Evid...   \n",
      "1623                            Summer Program in Aging   \n",
      "2337  Population health interventions in chronic dis...   \n",
      "2618  Connectivity of older adults in rural communit...   \n",
      "2724                                     not applicable   \n",
      "2771  Redefining the phenotype in complex diseases t...   \n",
      "3519  Neonatal pain-related stress, brain microstruc...   \n",
      "4403  The CONNECT Program: Engaging Community Organi...   \n",
      "5394  Summer Program in Aging 2023 Application: Long...   \n",
      "5944  Models for Primary Medical Care, Nursing Care ...   \n",
      "6272  Infrastructure development and capacity buildi...   \n",
      "\n",
      "     Principal investigator(s)   Co-investigator(s)  \\\n",
      "199    ['Babchishin, Kelly M']              ['N/A']   \n",
      "1623    ['Correia, Rebecca H']              ['N/A']   \n",
      "2337      ['Hammond, David G']              ['N/A']   \n",
      "2618      ['Keating, Norah C']  ['Menec, Verena H']   \n",
      "2724      ['Kooij, Katherine']              ['N/A']   \n",
      "2771        ['Labbe, Aurelie']              ['N/A']   \n",
      "3519     ['Miller, Jillian V']              ['N/A']   \n",
      "4403   ['Reynolds, Kristin A']              ['N/A']   \n",
      "5394   [\"D'Amico, Danielle N\"]              ['N/A']   \n",
      "5944       ['Hutton, Brian E']              ['N/A']   \n",
      "6272    ['Leatherdale, Scott']              ['N/A']   \n",
      "\n",
      "                                               Keywords  CIHR contribution  \\\n",
      "199   ['Causes', 'Epidemiology', 'Risk Factors', 'Se...           140000.0   \n",
      "1623                        ['Summer Program In Aging']                NaN   \n",
      "2337  ['Behavioural Risk Factors', 'Chronic Disease'...            15000.0   \n",
      "2618  ['Interdisciplinary Collaboration', 'Knowledge...           225000.0   \n",
      "2724                              ['Ics Travel Awards']             2660.0   \n",
      "2771  ['Gene Expression Data', 'Genetic Basis Of Com...            30000.0   \n",
      "3519  ['Caregiving', 'Emotional Availability', 'Inte...            17500.0   \n",
      "4403  ['Social/Cultural/Environmental/Population Hea...            50000.0   \n",
      "5394      ['Aging', 'Longevity', 'Older Adults', 'Spa']              730.0   \n",
      "5944  ['Knowledge Synthesis', 'Long-Term Care', 'Nur...            16666.0   \n",
      "6272  ['Alcohol', 'Capacity Building', 'Diet)', 'Kno...            15000.0   \n",
      "\n",
      "      ApplID Abstract/Summary  \n",
      "199   317819              NaN  \n",
      "1623  443056              NaN  \n",
      "2337  348681              NaN  \n",
      "2618  179080              NaN  \n",
      "2724  495162              NaN  \n",
      "2771  191820              NaN  \n",
      "3519  182670              NaN  \n",
      "4403  487243              NaN  \n",
      "5394  476198              NaN  \n",
      "5944  450440              NaN  \n",
      "6272  348682              NaN  \n"
     ]
    }
   ],
   "source": [
    "non_strings = grants[~grants['Abstract/Summary'].apply(lambda x: isinstance(x, str))]\n",
    "print(\"Non-string rows in 'Abstract/Summary':\")\n",
    "print(non_strings)\n"
   ]
  },
  {
   "cell_type": "code",
   "execution_count": null,
   "metadata": {},
   "outputs": [],
   "source": [
    "grants['Abstract/Summary'] = grants['Abstract/Summary'].fillna('').astype(str)"
   ]
  },
  {
   "cell_type": "code",
   "execution_count": 15,
   "metadata": {},
   "outputs": [
    {
     "name": "stdout",
     "output_type": "stream",
     "text": [
      "Language Counts:\n",
      "lang\n",
      "en         6247\n",
      "fr          355\n",
      "unknown      11\n",
      "hr            6\n",
      "tl            1\n",
      "Name: count, dtype: int64\n"
     ]
    }
   ],
   "source": [
    "def safe_detect(text):\n",
    "    try:\n",
    "        return detect(text)\n",
    "    except:\n",
    "        return 'unknown'  # Mark rows where detection fails\n",
    "\n",
    "# Apply language detection\n",
    "grants['lang'] = grants['Abstract/Summary'].apply(safe_detect)\n",
    "\n",
    "# Count occurrences of each detected language\n",
    "language_counts = grants['lang'].value_counts()\n",
    "\n",
    "print(\"Language Counts:\")\n",
    "print(language_counts)"
   ]
  },
  {
   "cell_type": "code",
   "execution_count": null,
   "metadata": {},
   "outputs": [
    {
     "name": "stdout",
     "output_type": "stream",
     "text": [
      "     Abstract/Summary     lang\n",
      "199                    unknown\n",
      "1411       sans objet       hr\n",
      "1623                   unknown\n",
      "1654       sans objet       hr\n",
      "2337                   unknown\n",
      "2386       sans objet       hr\n",
      "2618                   unknown\n",
      "2724                   unknown\n",
      "2752              N/a       tl\n",
      "2771                   unknown\n",
      "2779       sans objet       hr\n",
      "2936       sans objet       hr\n",
      "3519                   unknown\n",
      "4403                   unknown\n",
      "5394                   unknown\n",
      "5944                   unknown\n",
      "6238       sans objet       hr\n",
      "6272                   unknown\n"
     ]
    }
   ],
   "source": [
    "# Filter for unknown, hr, and tl\n",
    "unusual_langs = grants[grants['lang'].isin(['unknown', 'hr', 'tl'])]\n",
    "\n",
    "# Display the rows\n",
    "print(unusual_langs[['Abstract/Summary', 'lang']])"
   ]
  },
  {
   "cell_type": "code",
   "execution_count": 17,
   "metadata": {},
   "outputs": [
    {
     "name": "stdout",
     "output_type": "stream",
     "text": [
      "Filtered dataset saved as 'english_grants.csv'.\n"
     ]
    }
   ],
   "source": [
    "# Filter for English abstracts only\n",
    "english_grants = grants[grants['lang'] == 'en']\n",
    "\n",
    "# Save to a CSV file\n",
    "english_grants.to_csv('data/english_grants.csv', index=False)\n",
    "\n",
    "print(\"Filtered dataset saved as 'english_grants.csv'.\")"
   ]
  }
 ],
 "metadata": {
  "kernelspec": {
   "display_name": "Python 3",
   "language": "python",
   "name": "python3"
  },
  "language_info": {
   "codemirror_mode": {
    "name": "ipython",
    "version": 3
   },
   "file_extension": ".py",
   "mimetype": "text/x-python",
   "name": "python",
   "nbconvert_exporter": "python",
   "pygments_lexer": "ipython3",
   "version": "3.11.5"
  }
 },
 "nbformat": 4,
 "nbformat_minor": 2
}
